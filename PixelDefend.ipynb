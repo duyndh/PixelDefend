{
  "nbformat": 4,
  "nbformat_minor": 2,
  "metadata": {
    "colab": {
      "name": "PixelDefend.ipynb",
      "provenance": [],
      "collapsed_sections": []
    },
    "kernelspec": {
      "display_name": "Python 3",
      "name": "python3"
    },
    "language_info": {
      "name": "python"
    },
    "accelerator": "GPU"
  },
  "cells": [
    {
      "cell_type": "code",
      "execution_count": null,
      "source": [
        "!pip check"
      ],
      "outputs": [],
      "metadata": {
        "id": "pgkE5N4dp4bd"
      }
    },
    {
      "cell_type": "code",
      "execution_count": null,
      "source": [
        "!pip list"
      ],
      "outputs": [],
      "metadata": {
        "id": "YPau0hwttA47"
      }
    },
    {
      "cell_type": "code",
      "execution_count": null,
      "source": [
        "!pip install nbclient jupyter-client==5.3.5\r\n",
        "!pip install datascience folium==0.8.3\r\n",
        "!pip install albumentations imgaug==0.2.9"
      ],
      "outputs": [],
      "metadata": {
        "id": "EhPW8_rtxoBt"
      }
    },
    {
      "cell_type": "code",
      "execution_count": null,
      "source": [
        "!pip install cleverhans==2.1.0"
      ],
      "outputs": [],
      "metadata": {
        "id": "ha7-9ufmla94"
      }
    },
    {
      "cell_type": "code",
      "execution_count": null,
      "source": [
        "%tensorflow_version 1.x\r\n",
        "!python train_pxpp_softmax.py -d cifar -g 16"
      ],
      "outputs": [],
      "metadata": {
        "colab": {
          "base_uri": "https://localhost:8080/"
        },
        "id": "OOWGXinjyOPd",
        "outputId": "b2f831b3-00c6-44ca-d181-671e68c5577f"
      }
    }
  ]
}